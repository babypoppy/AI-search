{
 "cells": [
  {
   "cell_type": "markdown",
   "metadata": {},
   "source": [
    "# AIDM7370 AI Theories and Applications\n",
    "# Exercise 2"
   ]
  },
  {
   "cell_type": "code",
   "execution_count": 3,
   "metadata": {},
   "outputs": [],
   "source": [
    "# Install NetworkX, Matplotlib, Pandas, Numpy using pip package in the current Jupyter kernel\n",
    "import sys\n",
    "# !{sys.executable} -m pip install networkx\n",
    "# !{sys.executable} -m pip install matplotlib\n",
    "# !{sys.executable} -m pip install pandas\n",
    "# !{sys.executable} -m pip install numpy"
   ]
  },
  {
   "cell_type": "markdown",
   "metadata": {},
   "source": [
    "Create an undirected graph."
   ]
  },
  {
   "cell_type": "code",
   "execution_count": 4,
   "metadata": {},
   "outputs": [
    {
     "name": "stdout",
     "output_type": "stream",
     "text": [
      "Nodes of graph: \n",
      "['S', 'A', 'B', 'C', 'D', 'E', 'F', 'G']\n",
      "Edges of graph: \n",
      "[('S', 'A'), ('S', 'D'), ('A', 'D'), ('A', 'B'), ('B', 'C'), ('B', 'E'), ('B', 'G'), ('D', 'E'), ('E', 'F'), ('F', 'G')]\n"
     ]
    },
    {
     "data": {
      "image/png": "[encoded data removed]",
      "text/plain": [
       "<Figure size 360x360 with 1 Axes>"
      ]
     },
     "metadata": {},
     "output_type": "display_data"
    }
   ],
   "source": [
    "import matplotlib.pyplot as plt\n",
    "%matplotlib inline\n",
    "import warnings\n",
    "warnings.filterwarnings(\"ignore\", category=UserWarning)\n",
    "import math\n",
    "from queue import PriorityQueue\n",
    "\n",
    "import networkx as nx\n",
    "\n",
    "G=nx.Graph()\n",
    "\n",
    "# add nodes with positions\n",
    "G.add_node('S',pos=(0,0))\n",
    "G.add_node('A',pos=(1,2))\n",
    "G.add_node('B',pos=(3,1))\n",
    "G.add_node('C',pos=(5,1))\n",
    "G.add_node('D',pos=(0,3))\n",
    "G.add_node('E',pos=(2,5))\n",
    "G.add_node('F',pos=(3,4))\n",
    "G.add_node('G',pos=(4,2))\n",
    "\n",
    "# adding a list of edges:\n",
    "G.add_edges_from([\n",
    "    ('S','A'),('S','D'),\n",
    "    ('A','D'),('A','B'),\n",
    "    ('B','C'),('B','E'),('B','G'),\n",
    "    ('D','E'),\n",
    "    ('E','F'),\n",
    "    ('F','G')\n",
    "])\n",
    "print(\"Nodes of graph: \")\n",
    "print(G.nodes())\n",
    "print(\"Edges of graph: \")\n",
    "print(G.edges())\n",
    "\n",
    "plt.figure(figsize=(5,5))\n",
    "pos=nx.get_node_attributes(G,'pos')\n",
    "nx.draw_networkx(G, pos);"
   ]
  },
  {
   "cell_type": "markdown",
   "metadata": {},
   "source": [
    "## A* Algorithm\n",
    "### Heuristics\n",
    "1. Manhattan Distance  \n",
    "It is nothing but the sum of absolute values of differences in the goal’s x and y coordinates and the current node’s x and y coordinates respectively, i.e.,\\\n",
    "$ h = abs (current\\_node.x – goal.x) + \n",
    "     abs (current\\_node.y – goal.y) $\n",
    "1. Euclidean Distance  \n",
    "As it is clear from its name, it is nothing but the distance between the current cell and the goal cell using the distance formula\\\n",
    "$ h = sqrt ( (current\\_node.x – goal.x)^2 + (current\\_node.y – goal.y)^2 ) $"
   ]
  },
  {
   "cell_type": "code",
   "execution_count": 5,
   "metadata": {},
   "outputs": [
    {
     "name": "stdout",
     "output_type": "stream",
     "text": [
      "{'S': (0, 0), 'A': (1, 2), 'B': (3, 1), 'C': (5, 1), 'D': (0, 3), 'E': (2, 5), 'F': (3, 4), 'G': (4, 2)}\n",
      "S (0, 0)\n",
      "A (1, 2)\n",
      "B (3, 1)\n",
      "C (5, 1)\n",
      "D (0, 3)\n",
      "E (2, 5)\n",
      "F (3, 4)\n",
      "G (4, 2)\n"
     ]
    }
   ],
   "source": [
    "print(pos)\n",
    "for node in pos:\n",
    "    print(node, pos[node])"
   ]
  },
  {
   "cell_type": "code",
   "execution_count": 6,
   "metadata": {},
   "outputs": [],
   "source": [
    "# Heuristic 1: Manhattan Distance \n",
    "def heuristic1(a, b):\n",
    "    (x1, y1) = a\n",
    "    (x2, y2) = b\n",
    "    return abs(x1 - x2) + abs(y1 - y2)\n",
    "\n",
    "# Heuristic 2: Euclidean Distance\n",
    "def heuristic2(a, b):\n",
    "    (x1, y1) = a\n",
    "    (x2, y2) = b\n",
    "    return (math.sqrt((x1-x2)**2 + (y1-y2)**2))"
   ]
  },
  {
   "cell_type": "markdown",
   "metadata": {},
   "source": [
    "### A* search"
   ]
  },
  {
   "cell_type": "markdown",
   "metadata": {},
   "source": [
    "We use [`PriorityQueue`](https://docs.python.org/3/library/queue.html) to inplement `frontier`. Each element in the `PriorityQueue` is a score-object pair."
   ]
  },
  {
   "cell_type": "code",
   "execution_count": 7,
   "metadata": {},
   "outputs": [],
   "source": [
    "def a_star(graph, start, goal):\n",
    "    frontier = PriorityQueue()\n",
    "    frontier.put((heuristic2(pos[start], pos[goal]), start))\n",
    "    parent = {}\n",
    "    cost_so_far = {}\n",
    "    parent[start] = None\n",
    "    cost_so_far[start] = 0\n",
    "   \n",
    "    # Execute until there are nodes to be visited\n",
    "    while not frontier.empty():\n",
    "        print('Frontier:', frontier.queue)\n",
    "        # Extract a node from the frontier and expand the node\n",
    "        current = frontier.get()[1] # [1] extracts the node\n",
    "        print(current, \" -> \")\n",
    "        \n",
    "        # Goal test\n",
    "        if current == goal:\n",
    "            break\n",
    "        \n",
    "        # Add to frontier\n",
    "        for nextNode in graph.adj[current]:\n",
    "            step_cost = heuristic2(pos[current], pos[nextNode])\n",
    "            new_cost = cost_so_far[current] + step_cost\n",
    "            # Update cost\n",
    "            if (nextNode not in cost_so_far) or (new_cost < cost_so_far[nextNode]):\n",
    "                cost_so_far[nextNode] = new_cost\n",
    "                f_score = new_cost + heuristic1(pos[goal], pos[nextNode])\n",
    "#                 f_score = new_cost + heuristic2(pos[goal], pos[nextNode])\n",
    "                frontier.put((f_score, nextNode))\n",
    "                parent[nextNode] = current\n",
    "    \n",
    "    return parent, cost_so_far"
   ]
  },
  {
   "cell_type": "code",
   "execution_count": 8,
   "metadata": {},
   "outputs": [
    {
     "name": "stdout",
     "output_type": "stream",
     "text": [
      "Frontier: [(4.47213595499958, 'S')]\n",
      "S  -> \n",
      "Frontier: [(5.23606797749979, 'A'), (8.0, 'D')]\n",
      "A  -> \n",
      "Frontier: [(6.47213595499958, 'B'), (8.0, 'D')]\n",
      "B  -> \n",
      "Frontier: [(5.8863495173726745, 'G'), (8.0, 'D'), (13.595241580617241, 'E'), (8.47213595499958, 'C')]\n",
      "G  -> \n"
     ]
    }
   ],
   "source": [
    "parent, cost_so_far = a_star(G, 'S', 'G')"
   ]
  },
  {
   "cell_type": "markdown",
   "metadata": {},
   "source": [
    "# Task\n",
    "Plese finish the following tasks, and submit Jupyter notebook file **with output** to Moodle.\\\n",
    "Due date: 23:59, 23 Feb, 2021\\\n",
    "Late submission penalty: a reduction by 25% for each day.\n",
    "## Task 1 (5 marks)\n",
    "1. Define a `UniformCost` function, compute the path from start node to goal node using uniform cost search.\n",
    "2. At the end of the search process, display the path from start node to goal node AND the total distance of this path .\n",
    "3. Call the `UniformCost` function to find path from 'S' to 'G'."
   ]
  },
  {
   "cell_type": "markdown",
   "metadata": {},
   "source": [
    "#### Uniformcost "
   ]
  },
  {
   "cell_type": "code",
   "execution_count": 9,
   "metadata": {},
   "outputs": [],
   "source": [
    "def UniformCost(graph, start, goal):\n",
    "    frontier = PriorityQueue()\n",
    "    frontier.put((0,start))\n",
    "    parent = {}\n",
    "    cost_so_far = {}\n",
    "    parent[start] = None\n",
    "    cost_so_far[start] = 0\n",
    "    route = []\n",
    "\n",
    "    # Execute until there are nodes to be visited\n",
    "    while not frontier.empty():\n",
    "        print('Frontier:', frontier.queue)\n",
    "        # Extract a node from the frontier and expand the node\n",
    "        current = frontier.get()[1] # [1] extracts the node\n",
    "#         print(parent[current])\n",
    "        print(current, \" -> \") \n",
    "\n",
    "        # Goal test\n",
    "        if current == goal:\n",
    "            break\n",
    "        \n",
    "        # Add to frontier\n",
    "        for nextNode in graph.adj[current]: \n",
    "            step_cost = heuristic2(pos[current], pos[nextNode])\n",
    "            new_cost = cost_so_far[current] + step_cost\n",
    "            # Update cost \n",
    "            if (nextNode not in cost_so_far) or (new_cost < cost_so_far[nextNode]):\n",
    "                cost_so_far[nextNode] = new_cost\n",
    "                f_score = new_cost\n",
    "                frontier.put((f_score, nextNode))\n",
    "                parent[nextNode] = current\n",
    "                \n",
    "\n",
    "    a = goal\n",
    "    route.insert(0,a)\n",
    "    while parent[a] != None:\n",
    "        route.insert(0,parent[a])\n",
    "        a = parent[a]\n",
    "\n",
    "    print(\"The Path is:\", '->'.join(route))\n",
    "    \n",
    "\n",
    "                \n",
    "    print(\"Total distance is :\" ,cost_so_far[goal])\n",
    "    return parent, cost_so_far"
   ]
  },
  {
   "cell_type": "code",
   "execution_count": 10,
   "metadata": {},
   "outputs": [
    {
     "name": "stdout",
     "output_type": "stream",
     "text": [
      "Frontier: [(0, 'S')]\n",
      "S  -> \n",
      "Frontier: [(2.23606797749979, 'A'), (3.0, 'D')]\n",
      "A  -> \n",
      "Frontier: [(3.0, 'D'), (4.47213595499958, 'B')]\n",
      "D  -> \n",
      "Frontier: [(4.47213595499958, 'B'), (5.82842712474619, 'E')]\n",
      "B  -> \n",
      "Frontier: [(5.82842712474619, 'E'), (6.47213595499958, 'C'), (5.8863495173726745, 'G')]\n",
      "E  -> \n",
      "Frontier: [(5.8863495173726745, 'G'), (6.47213595499958, 'C'), (7.242640687119285, 'F')]\n",
      "G  -> \n",
      "The Path is: S->A->B->G\n",
      "Total distance is : 5.8863495173726745\n"
     ]
    }
   ],
   "source": [
    "parent,cost_so_far = UniformCost(G, 'S', 'G')"
   ]
  },
  {
   "cell_type": "markdown",
   "metadata": {},
   "source": [
    "## Task 2 (5 marks)\n",
    "1. Define a `Greedy` function, compute the path from start node to goal node using greedy search. Using Euclidean Distance as heuristic.\n",
    "2. At the end of the search process, display the path from start node to goal node AND the total distance of this path .\n",
    "3. Call the `Greedy` function to find path from from 'S' to 'G'."
   ]
  },
  {
   "cell_type": "code",
   "execution_count": 13,
   "metadata": {},
   "outputs": [],
   "source": [
    "def Greedy(graph, start, goal):\n",
    "    frontier = PriorityQueue()\n",
    "    frontier.put((heuristic2(pos[start], pos[goal]), start))\n",
    "    parent = {}\n",
    "    cost_so_far = {}\n",
    "    parent[start] = None\n",
    "    cost_so_far[start] = 0\n",
    "    route = []\n",
    "   \n",
    "    # Execute until there are nodes to be visited\n",
    "    while not frontier.empty():\n",
    "        print('Frontier:', frontier.queue)\n",
    "        # Extract a node from the frontier and expand the node\n",
    "        current = frontier.get()[1] # [1] extracts the node\n",
    "        print(current, \" -> \")\n",
    "        \n",
    "        # Goal test\n",
    "        if current == goal:\n",
    "            break\n",
    "        \n",
    "        # Add to frontier\n",
    "        for nextNode in graph.adj[current]:\n",
    "            step_cost = heuristic2(pos[current], pos[nextNode])\n",
    "            new_cost = cost_so_far[current] + step_cost\n",
    "            # Update cost\n",
    "            if (nextNode not in cost_so_far) or (new_cost < cost_so_far[nextNode]):\n",
    "                cost_so_far[nextNode] = new_cost\n",
    "                \n",
    "                f_score = heuristic2(pos[goal], pos[nextNode])\n",
    "                frontier.put((f_score, nextNode))\n",
    "                parent[nextNode] = current\n",
    "    \n",
    "    a = goal\n",
    "    route.insert(0,a)\n",
    "    while parent[a] != None:\n",
    "        route.insert(0,parent[a])\n",
    "        a = parent[a]\n",
    "\n",
    "    print(\"The Path is:\", '->'.join(route))\n",
    "    print(\"Total distance is :\" ,cost_so_far[goal])\n",
    "    \n",
    "    return parent, cost_so_far"
   ]
  },
  {
   "cell_type": "code",
   "execution_count": 14,
   "metadata": {},
   "outputs": [
    {
     "name": "stdout",
     "output_type": "stream",
     "text": [
      "Frontier: [(4.47213595499958, 'S')]\n",
      "S  -> \n",
      "Frontier: [(3.0, 'A'), (4.123105625617661, 'D')]\n",
      "A  -> \n",
      "Frontier: [(1.4142135623730951, 'B'), (4.123105625617661, 'D')]\n",
      "B  -> \n",
      "Frontier: [(0.0, 'G'), (1.4142135623730951, 'C'), (3.605551275463989, 'E'), (4.123105625617661, 'D')]\n",
      "G  -> \n",
      "The Path is: S->A->B->G\n",
      "Total distance is : 5.8863495173726745\n"
     ]
    }
   ],
   "source": [
    "parent, cost_so_far = Greedy(G, 'S', 'G')"
   ]
  },
  {
   "cell_type": "markdown",
   "metadata": {},
   "source": [
    "- The codes in this notebook take insipiration from various sources. All codes are for educational purposes only and released under the CC1.0. "
   ]
  },
  {
   "cell_type": "code",
   "execution_count": null,
   "metadata": {},
   "outputs": [],
   "source": []
  }
 ],
 "metadata": {
  "kernelspec": {
   "display_name": "Python 3",
   "language": "python",
   "name": "python3"
  },
  "language_info": {
   "codemirror_mode": {
    "name": "ipython",
    "version": 3
   },
   "file_extension": ".py",
   "mimetype": "text/x-python",
   "name": "python",
   "nbconvert_exporter": "python",
   "pygments_lexer": "ipython3",
   "version": "3.8.3"
  }
 },
 "nbformat": 4,
 "nbformat_minor": 2
}
